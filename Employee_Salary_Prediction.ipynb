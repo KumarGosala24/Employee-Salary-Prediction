{
  "nbformat": 4,
  "nbformat_minor": 0,
  "metadata": {
    "colab": {
      "provenance": []
    },
    "kernelspec": {
      "name": "python3",
      "display_name": "Python 3"
    },
    "language_info": {
      "name": "python"
    }
  },
  "cells": [
    {
      "cell_type": "code",
      "execution_count": 1,
      "metadata": {
        "id": "VbfWr8voEYIn"
      },
      "outputs": [],
      "source": [
        "#Step 1: Import Required Libraries"
      ]
    },
    {
      "cell_type": "code",
      "source": [
        "import pandas as pd\n",
        "import matplotlib.pyplot as plt\n",
        "from sklearn.preprocessing import LabelEncoder, StandardScaler\n",
        "from sklearn.model_selection import train_test_split\n",
        "from sklearn.pipeline import Pipeline\n",
        "from sklearn.metrics import accuracy_score, classification_report\n",
        "from sklearn.linear_model import LogisticRegression\n",
        "from sklearn.ensemble import RandomForestClassifier, GradientBoostingClassifier\n",
        "from sklearn.neighbors import KNeighborsClassifier\n",
        "from sklearn.svm import SVC\n",
        "import joblib\n"
      ],
      "metadata": {
        "id": "RaVOpYcnEess"
      },
      "execution_count": 2,
      "outputs": []
    },
    {
      "cell_type": "code",
      "source": [
        "#Step 2: Load and Explore Data"
      ],
      "metadata": {
        "id": "MvmY8F6qEgEd"
      },
      "execution_count": 3,
      "outputs": []
    },
    {
      "cell_type": "code",
      "source": [
        "data = pd.read_csv(\"/content/adult 3.csv\")\n",
        "\n",
        "# Basic info\n",
        "print(data.head(10))\n",
        "print(data.shape)\n",
        "print(data.tail(3))\n"
      ],
      "metadata": {
        "id": "77y_FA8hEiJD"
      },
      "execution_count": null,
      "outputs": []
    },
    {
      "cell_type": "code",
      "source": [
        "#Step 3: Handle Missing and Unknown Values"
      ],
      "metadata": {
        "id": "2juMhLDTEjuh"
      },
      "execution_count": 5,
      "outputs": []
    },
    {
      "cell_type": "code",
      "source": [
        "# Checking missing values\n",
        "print(data.isna().sum())\n",
        "\n",
        "# Replace '?' with 'Others' for workclass and occupation\n",
        "data['workclass'].replace({'?': 'Others'}, inplace=True)\n",
        "data['occupation'].replace({'?': 'Others'}, inplace=True)\n",
        "\n",
        "# Filter unwanted workclass categories\n",
        "data = data[~data['workclass'].isin(['Without-pay', 'Never-worked'])]\n",
        "\n",
        "# View updated counts\n",
        "print(data['workclass'].value_counts())\n",
        "print(data['occupation'].value_counts())\n"
      ],
      "metadata": {
        "id": "JdDB8x4DEl9P"
      },
      "execution_count": null,
      "outputs": []
    },
    {
      "cell_type": "code",
      "source": [
        "#Step 4: Explore and Remove Outliers"
      ],
      "metadata": {
        "id": "AAcCUQnAEnpW"
      },
      "execution_count": 7,
      "outputs": []
    },
    {
      "cell_type": "code",
      "source": [
        "# Age\n",
        "plt.boxplot(data['age']); plt.title(\"Age\"); plt.show()\n",
        "data = data[(data['age'] >= 17) & (data['age'] <= 75)]\n",
        "plt.boxplot(data['age']); plt.title(\"Cleaned Age\"); plt.show()\n",
        "\n",
        "# Capital Gain\n",
        "plt.boxplot(data['capital-gain']); plt.title(\"Capital Gain\"); plt.show()\n",
        "\n",
        "# Educational Num\n",
        "plt.boxplot(data['educational-num']); plt.title(\"Educational Number\"); plt.show()\n",
        "data = data[(data['educational-num'] >= 5) & (data['educational-num'] <= 16)]\n",
        "plt.boxplot(data['educational-num']); plt.title(\"Cleaned Educational Num\"); plt.show()\n",
        "\n",
        "# Hours Per Week\n",
        "plt.boxplot(data['hours-per-week']); plt.title(\"Hours per Week\"); plt.show()\n"
      ],
      "metadata": {
        "id": "GQq59un9Epv3"
      },
      "execution_count": null,
      "outputs": []
    },
    {
      "cell_type": "code",
      "source": [
        "#Step 5: Feature Cleanup"
      ],
      "metadata": {
        "id": "2pr6WYErEso6"
      },
      "execution_count": 9,
      "outputs": []
    },
    {
      "cell_type": "code",
      "source": [
        "# Drop redundant column\n",
        "data.drop(columns=['education'], inplace=True)\n"
      ],
      "metadata": {
        "id": "fKuow_BpEtgf"
      },
      "execution_count": 10,
      "outputs": []
    },
    {
      "cell_type": "code",
      "source": [
        "#Step 6: Label Encoding"
      ],
      "metadata": {
        "id": "B9pah6WVEv49"
      },
      "execution_count": 11,
      "outputs": []
    },
    {
      "cell_type": "code",
      "source": [
        "encoder = LabelEncoder()\n",
        "\n",
        "# Apply encoding\n",
        "categorical_cols = ['workclass', 'marital-status', 'occupation', 'relationship', 'race', 'gender', 'native-country']\n",
        "for col in categorical_cols:\n",
        "    data[col] = encoder.fit_transform(data[col])\n"
      ],
      "metadata": {
        "id": "70p7x32XEyCH"
      },
      "execution_count": 12,
      "outputs": []
    },
    {
      "cell_type": "code",
      "source": [
        "#Step 7: Split Features and Labels"
      ],
      "metadata": {
        "id": "z_94NfSCEznt"
      },
      "execution_count": 13,
      "outputs": []
    },
    {
      "cell_type": "code",
      "source": [
        "X = data.drop(columns=['income'])\n",
        "y = data['income']\n"
      ],
      "metadata": {
        "id": "E84BIAwZE1sT"
      },
      "execution_count": 14,
      "outputs": []
    },
    {
      "cell_type": "code",
      "source": [
        "#Step 8: Train & Compare Models using Pipeline"
      ],
      "metadata": {
        "id": "FHnKhOgoE4JE"
      },
      "execution_count": 15,
      "outputs": []
    },
    {
      "cell_type": "code",
      "source": [
        "X_train, X_test, y_train, y_test = train_test_split(X, y, test_size=0.2, random_state=42)\n",
        "\n",
        "models = {\n",
        "    \"LogisticRegression\": LogisticRegression(),\n",
        "    \"RandomForest\": RandomForestClassifier(),\n",
        "    \"KNN\": KNeighborsClassifier(),\n",
        "    \"SVM\": SVC(),\n",
        "    \"GradientBoosting\": GradientBoostingClassifier()\n",
        "}\n",
        "\n",
        "results = {}\n",
        "\n",
        "for name, model in models.items():\n",
        "    pipeline = Pipeline([\n",
        "        ('scaler', StandardScaler()),\n",
        "        ('model', model)\n",
        "    ])\n",
        "    pipeline.fit(X_train, y_train)\n",
        "    y_pred = pipeline.predict(X_test)\n",
        "    acc = accuracy_score(y_test, y_pred)\n",
        "    results[name] = acc\n",
        "    print(f\"{name} Accuracy: {acc:.4f}\")\n",
        "    print(classification_report(y_test, y_pred))\n"
      ],
      "metadata": {
        "id": "oz3s1OnCE5Fz"
      },
      "execution_count": null,
      "outputs": []
    },
    {
      "cell_type": "code",
      "source": [
        "#Step 9: Visualize Model Comparison"
      ],
      "metadata": {
        "id": "Yafs6TnpE6dF"
      },
      "execution_count": 17,
      "outputs": []
    },
    {
      "cell_type": "code",
      "source": [
        "plt.bar(results.keys(), results.values(), color='skyblue')\n",
        "plt.ylabel('Accuracy Score')\n",
        "plt.title('Model Comparison')\n",
        "plt.xticks(rotation=45)\n",
        "plt.grid(True)\n",
        "plt.show()\n"
      ],
      "metadata": {
        "id": "JwTHex7WE89a"
      },
      "execution_count": null,
      "outputs": []
    },
    {
      "cell_type": "code",
      "source": [
        "#Step 10: Final Model Selection and Saving"
      ],
      "metadata": {
        "id": "0i37ffT-E_lP"
      },
      "execution_count": 19,
      "outputs": []
    },
    {
      "cell_type": "code",
      "source": [
        "# Train and save the best model\n",
        "X_train, X_test, y_train, y_test = train_test_split(X, y, test_size=0.2, random_state=42)\n",
        "\n",
        "# Re-train models\n",
        "for name, model in models.items():\n",
        "    model.fit(X_train, y_train)\n",
        "    preds = model.predict(X_test)\n",
        "    results[name] = accuracy_score(y_test, preds)\n",
        "    print(f\"{name}: {results[name]:.4f}\")\n",
        "\n",
        "best_model_name = max(results, key=results.get)\n",
        "best_model = models[best_model_name]\n",
        "\n",
        "print(f\"\\n✅ Best model: {best_model_name} with accuracy {results[best_model_name]:.4f}\")\n",
        "joblib.dump(best_model, \"best_model.pkl\")\n",
        "print(\"✅ Saved best model as best_model.pkl\")\n"
      ],
      "metadata": {
        "id": "vR8097N9FAiv"
      },
      "execution_count": null,
      "outputs": []
    },
    {
      "cell_type": "code",
      "source": [
        "# Step 11: Streamlit App (Save as app.py)"
      ],
      "metadata": {
        "id": "_jjX8ODhFDhP"
      },
      "execution_count": 21,
      "outputs": []
    },
    {
      "cell_type": "code",
      "source": [
        "%%writefile app.py\n",
        "import streamlit as st\n",
        "import pandas as pd\n",
        "import joblib\n",
        "\n",
        "model = joblib.load(\"best_model.pkl\")\n",
        "\n",
        "st.set_page_config(page_title=\"Employee Salary Classification\", page_icon=\"💼\", layout=\"centered\")\n",
        "st.title(\"💼 Employee Salary Classification App\")\n",
        "st.markdown(\"Predict whether an employee earns >50K or ≤50K based on input features.\")\n",
        "\n",
        "st.sidebar.header(\"Input Employee Details\")\n",
        "\n",
        "# Input fields (adjust based on training features)\n",
        "age = st.sidebar.slider(\"Age\", 18, 65, 30)\n",
        "education = st.sidebar.selectbox(\"Education Level\", [\n",
        "    \"Bachelors\", \"Masters\", \"PhD\", \"HS-grad\", \"Assoc\", \"Some-college\"\n",
        "])\n",
        "occupation = st.sidebar.selectbox(\"Job Role\", [\n",
        "    \"Tech-support\", \"Craft-repair\", \"Other-service\", \"Sales\",\n",
        "    \"Exec-managerial\", \"Prof-specialty\", \"Handlers-cleaners\", \"Machine-op-inspct\",\n",
        "    \"Adm-clerical\", \"Farming-fishing\", \"Transport-moving\", \"Priv-house-serv\",\n",
        "    \"Protective-serv\", \"Armed-Forces\"\n",
        "])\n",
        "hours_per_week = st.sidebar.slider(\"Hours per week\", 1, 80, 40)\n",
        "experience = st.sidebar.slider(\"Years of Experience\", 0, 40, 5)\n",
        "\n",
        "# Create input DataFrame\n",
        "input_df = pd.DataFrame({\n",
        "    'age': [age],\n",
        "    'education': [education],\n",
        "    'occupation': [occupation],\n",
        "    'hours-per-week': [hours_per_week],\n",
        "    'experience': [experience]\n",
        "})\n",
        "\n",
        "st.write(\"### 🔎 Input Data\")\n",
        "st.write(input_df)\n",
        "\n",
        "# Predict button\n",
        "if st.button(\"Predict Salary Class\"):\n",
        "    prediction = model.predict(input_df)\n",
        "    st.success(f\"✅ Prediction: {prediction[0]}\")\n",
        "\n",
        "# Batch prediction\n",
        "st.markdown(\"---\")\n",
        "st.markdown(\"#### 📂 Batch Prediction\")\n",
        "uploaded_file = st.file_uploader(\"Upload a CSV file for batch prediction\", type=\"csv\")\n",
        "\n",
        "if uploaded_file is not None:\n",
        "    batch_data = pd.read_csv(uploaded_file)\n",
        "    st.write(\"Uploaded data preview:\", batch_data.head())\n",
        "    batch_preds = model.predict(batch_data)\n",
        "    batch_data['PredictedClass'] = batch_preds\n",
        "    st.write(\"✅ Predictions:\")\n",
        "    st.write(batch_data.head())\n",
        "    csv = batch_data.to_csv(index=False).encode('utf-8')\n",
        "    st.download_button(\"Download Predictions CSV\", csv, file_name='predicted_classes.csv', mime='text/csv')\n"
      ],
      "metadata": {
        "id": "pvVh5ZOfFFoJ"
      },
      "execution_count": null,
      "outputs": []
    }
  ]
}